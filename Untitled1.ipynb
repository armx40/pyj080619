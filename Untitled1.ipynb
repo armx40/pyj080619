{
 "cells": [
  {
   "cell_type": "code",
   "execution_count": 1,
   "metadata": {},
   "outputs": [],
   "source": [
    "import pandas as pd"
   ]
  },
  {
   "cell_type": "code",
   "execution_count": 2,
   "metadata": {},
   "outputs": [],
   "source": [
    "data = pd.read_excel('Datasets/Instant Raw Report (11).xlsx')"
   ]
  },
  {
   "cell_type": "code",
   "execution_count": 3,
   "metadata": {},
   "outputs": [
    {
     "data": {
      "text/plain": [
       "Index(['CCMS ID', 'Timestamp', 'Active Power kW', 'Apparent Power kVA',\n",
       "       'Current R (A)', 'Current Y (A)', 'Current B (A)', 'Voltage R (V)',\n",
       "       'Voltage Y (V)', 'Voltage B (V)', 'Total PF', 'Frequency (Hz)',\n",
       "       'MD kVA', 'MD kW', 'Load Relay Status R', 'Load Relay Status Y',\n",
       "       'Load Relay Status B', 'R Phase kW', 'Y Phase kW', 'B Phase kW',\n",
       "       'Active Mode', 'Total Active Energy', 'Total Apparent Energy',\n",
       "       'Current Day kWh', 'Current Day kVAh', 'Power On Time(Hrs)',\n",
       "       'Relay on Time(Hrs)', 'Current Day Meter on Period',\n",
       "       'Current Day Relay on Period'],\n",
       "      dtype='object')"
      ]
     },
     "execution_count": 3,
     "metadata": {},
     "output_type": "execute_result"
    }
   ],
   "source": [
    "data.columns"
   ]
  },
  {
   "cell_type": "code",
   "execution_count": 4,
   "metadata": {},
   "outputs": [
    {
     "data": {
      "text/html": [
       "<div>\n",
       "<style scoped>\n",
       "    .dataframe tbody tr th:only-of-type {\n",
       "        vertical-align: middle;\n",
       "    }\n",
       "\n",
       "    .dataframe tbody tr th {\n",
       "        vertical-align: top;\n",
       "    }\n",
       "\n",
       "    .dataframe thead th {\n",
       "        text-align: right;\n",
       "    }\n",
       "</style>\n",
       "<table border=\"1\" class=\"dataframe\">\n",
       "  <thead>\n",
       "    <tr style=\"text-align: right;\">\n",
       "      <th></th>\n",
       "      <th>CCMS ID</th>\n",
       "      <th>Timestamp</th>\n",
       "      <th>Active Power kW</th>\n",
       "      <th>Apparent Power kVA</th>\n",
       "      <th>Current R (A)</th>\n",
       "      <th>Current Y (A)</th>\n",
       "      <th>Current B (A)</th>\n",
       "      <th>Voltage R (V)</th>\n",
       "      <th>Voltage Y (V)</th>\n",
       "      <th>Voltage B (V)</th>\n",
       "      <th>...</th>\n",
       "      <th>B Phase kW</th>\n",
       "      <th>Active Mode</th>\n",
       "      <th>Total Active Energy</th>\n",
       "      <th>Total Apparent Energy</th>\n",
       "      <th>Current Day kWh</th>\n",
       "      <th>Current Day kVAh</th>\n",
       "      <th>Power On Time(Hrs)</th>\n",
       "      <th>Relay on Time(Hrs)</th>\n",
       "      <th>Current Day Meter on Period</th>\n",
       "      <th>Current Day Relay on Period</th>\n",
       "    </tr>\n",
       "  </thead>\n",
       "  <tbody>\n",
       "    <tr>\n",
       "      <th>0</th>\n",
       "      <td>SMR03-0219-0252</td>\n",
       "      <td>2019-05-01 23:44:42</td>\n",
       "      <td>5.11</td>\n",
       "      <td>5.15</td>\n",
       "      <td>10.66</td>\n",
       "      <td>5.47</td>\n",
       "      <td>5.85</td>\n",
       "      <td>233.48</td>\n",
       "      <td>234.57</td>\n",
       "      <td>235.40</td>\n",
       "      <td>...</td>\n",
       "      <td>1.36</td>\n",
       "      <td>AUTO</td>\n",
       "      <td>7329.234</td>\n",
       "      <td>7372.664</td>\n",
       "      <td>49.204</td>\n",
       "      <td>49.591</td>\n",
       "      <td>1615:42:7</td>\n",
       "      <td>791:3:44</td>\n",
       "      <td>22:47:44</td>\n",
       "      <td>9:38:30</td>\n",
       "    </tr>\n",
       "    <tr>\n",
       "      <th>1</th>\n",
       "      <td>SMR03-0219-0252</td>\n",
       "      <td>2019-05-01 23:29:04</td>\n",
       "      <td>5.11</td>\n",
       "      <td>5.14</td>\n",
       "      <td>10.65</td>\n",
       "      <td>5.48</td>\n",
       "      <td>5.83</td>\n",
       "      <td>233.56</td>\n",
       "      <td>234.34</td>\n",
       "      <td>235.45</td>\n",
       "      <td>...</td>\n",
       "      <td>1.35</td>\n",
       "      <td>AUTO</td>\n",
       "      <td>7327.901</td>\n",
       "      <td>7371.322</td>\n",
       "      <td>47.871</td>\n",
       "      <td>48.249</td>\n",
       "      <td>1615:26:31</td>\n",
       "      <td>790:48:8</td>\n",
       "      <td>22:32:8</td>\n",
       "      <td>9:22:54</td>\n",
       "    </tr>\n",
       "    <tr>\n",
       "      <th>2</th>\n",
       "      <td>SMR03-0219-0252</td>\n",
       "      <td>2019-05-01 23:13:58</td>\n",
       "      <td>5.11</td>\n",
       "      <td>5.14</td>\n",
       "      <td>10.74</td>\n",
       "      <td>5.52</td>\n",
       "      <td>5.89</td>\n",
       "      <td>231.74</td>\n",
       "      <td>232.72</td>\n",
       "      <td>233.72</td>\n",
       "      <td>...</td>\n",
       "      <td>1.35</td>\n",
       "      <td>AUTO</td>\n",
       "      <td>7326.616</td>\n",
       "      <td>7370.028</td>\n",
       "      <td>46.586</td>\n",
       "      <td>46.955</td>\n",
       "      <td>1615:11:25</td>\n",
       "      <td>790:33:2</td>\n",
       "      <td>22:17:2</td>\n",
       "      <td>9:7:48</td>\n",
       "    </tr>\n",
       "    <tr>\n",
       "      <th>3</th>\n",
       "      <td>SMR03-0219-0252</td>\n",
       "      <td>2019-05-01 22:57:49</td>\n",
       "      <td>5.12</td>\n",
       "      <td>5.16</td>\n",
       "      <td>10.73</td>\n",
       "      <td>5.53</td>\n",
       "      <td>5.90</td>\n",
       "      <td>232.01</td>\n",
       "      <td>233.22</td>\n",
       "      <td>234.14</td>\n",
       "      <td>...</td>\n",
       "      <td>1.36</td>\n",
       "      <td>AUTO</td>\n",
       "      <td>7325.238</td>\n",
       "      <td>7368.641</td>\n",
       "      <td>45.208</td>\n",
       "      <td>45.568</td>\n",
       "      <td>1614:55:17</td>\n",
       "      <td>790:16:54</td>\n",
       "      <td>22:0:54</td>\n",
       "      <td>8:51:40</td>\n",
       "    </tr>\n",
       "    <tr>\n",
       "      <th>4</th>\n",
       "      <td>SMR03-0219-0252</td>\n",
       "      <td>2019-05-01 22:42:12</td>\n",
       "      <td>5.17</td>\n",
       "      <td>5.22</td>\n",
       "      <td>10.79</td>\n",
       "      <td>5.55</td>\n",
       "      <td>5.92</td>\n",
       "      <td>233.17</td>\n",
       "      <td>234.27</td>\n",
       "      <td>235.16</td>\n",
       "      <td>...</td>\n",
       "      <td>1.37</td>\n",
       "      <td>AUTO</td>\n",
       "      <td>7323.899</td>\n",
       "      <td>7367.293</td>\n",
       "      <td>43.869</td>\n",
       "      <td>44.220</td>\n",
       "      <td>1614:39:41</td>\n",
       "      <td>790:1:18</td>\n",
       "      <td>21:45:18</td>\n",
       "      <td>8:36:4</td>\n",
       "    </tr>\n",
       "  </tbody>\n",
       "</table>\n",
       "<p>5 rows × 29 columns</p>\n",
       "</div>"
      ],
      "text/plain": [
       "           CCMS ID            Timestamp  Active Power kW  Apparent Power kVA  \\\n",
       "0  SMR03-0219-0252  2019-05-01 23:44:42             5.11                5.15   \n",
       "1  SMR03-0219-0252  2019-05-01 23:29:04             5.11                5.14   \n",
       "2  SMR03-0219-0252  2019-05-01 23:13:58             5.11                5.14   \n",
       "3  SMR03-0219-0252  2019-05-01 22:57:49             5.12                5.16   \n",
       "4  SMR03-0219-0252  2019-05-01 22:42:12             5.17                5.22   \n",
       "\n",
       "   Current R (A)  Current Y (A)  Current B (A)  Voltage R (V)  Voltage Y (V)  \\\n",
       "0          10.66           5.47           5.85         233.48         234.57   \n",
       "1          10.65           5.48           5.83         233.56         234.34   \n",
       "2          10.74           5.52           5.89         231.74         232.72   \n",
       "3          10.73           5.53           5.90         232.01         233.22   \n",
       "4          10.79           5.55           5.92         233.17         234.27   \n",
       "\n",
       "   Voltage B (V)             ...              B Phase kW  Active Mode  \\\n",
       "0         235.40             ...                    1.36         AUTO   \n",
       "1         235.45             ...                    1.35         AUTO   \n",
       "2         233.72             ...                    1.35         AUTO   \n",
       "3         234.14             ...                    1.36         AUTO   \n",
       "4         235.16             ...                    1.37         AUTO   \n",
       "\n",
       "   Total Active Energy  Total Apparent Energy Current Day kWh  \\\n",
       "0             7329.234               7372.664          49.204   \n",
       "1             7327.901               7371.322          47.871   \n",
       "2             7326.616               7370.028          46.586   \n",
       "3             7325.238               7368.641          45.208   \n",
       "4             7323.899               7367.293          43.869   \n",
       "\n",
       "  Current Day kVAh Power On Time(Hrs)  Relay on Time(Hrs)  \\\n",
       "0           49.591          1615:42:7            791:3:44   \n",
       "1           48.249         1615:26:31            790:48:8   \n",
       "2           46.955         1615:11:25            790:33:2   \n",
       "3           45.568         1614:55:17           790:16:54   \n",
       "4           44.220         1614:39:41            790:1:18   \n",
       "\n",
       "   Current Day Meter on Period  Current Day Relay on Period  \n",
       "0                     22:47:44                      9:38:30  \n",
       "1                      22:32:8                      9:22:54  \n",
       "2                      22:17:2                       9:7:48  \n",
       "3                      22:0:54                      8:51:40  \n",
       "4                     21:45:18                       8:36:4  \n",
       "\n",
       "[5 rows x 29 columns]"
      ]
     },
     "execution_count": 4,
     "metadata": {},
     "output_type": "execute_result"
    }
   ],
   "source": [
    "data.head()"
   ]
  },
  {
   "cell_type": "code",
   "execution_count": 5,
   "metadata": {},
   "outputs": [
    {
     "data": {
      "text/plain": [
       "DISCONNECTED    1455\n",
       "CONNECTED       1222\n",
       "Name: Load Relay Status B, dtype: int64"
      ]
     },
     "execution_count": 5,
     "metadata": {},
     "output_type": "execute_result"
    }
   ],
   "source": [
    "data['Load Relay Status B'].value_counts()"
   ]
  },
  {
   "cell_type": "code",
   "execution_count": 6,
   "metadata": {},
   "outputs": [
    {
     "data": {
      "text/plain": [
       "DISCONNECTED    1455\n",
       "CONNECTED       1222\n",
       "Name: Load Relay Status R, dtype: int64"
      ]
     },
     "execution_count": 6,
     "metadata": {},
     "output_type": "execute_result"
    }
   ],
   "source": [
    "data['Load Relay Status R'].value_counts()"
   ]
  },
  {
   "cell_type": "code",
   "execution_count": 7,
   "metadata": {},
   "outputs": [
    {
     "data": {
      "text/plain": [
       "DISCONNECTED    1455\n",
       "CONNECTED       1222\n",
       "Name: Load Relay Status Y, dtype: int64"
      ]
     },
     "execution_count": 7,
     "metadata": {},
     "output_type": "execute_result"
    }
   ],
   "source": [
    "data['Load Relay Status Y'].value_counts()"
   ]
  },
  {
   "cell_type": "code",
   "execution_count": 9,
   "metadata": {},
   "outputs": [],
   "source": [
    "a = pd.DataFrame(data['Active Power kW'].loc[data['Load Relay Status B']=='CONNECTED'], columns=['active_power_kW'])"
   ]
  },
  {
   "cell_type": "code",
   "execution_count": 10,
   "metadata": {},
   "outputs": [
    {
     "data": {
      "text/html": [
       "<div>\n",
       "<style scoped>\n",
       "    .dataframe tbody tr th:only-of-type {\n",
       "        vertical-align: middle;\n",
       "    }\n",
       "\n",
       "    .dataframe tbody tr th {\n",
       "        vertical-align: top;\n",
       "    }\n",
       "\n",
       "    .dataframe thead th {\n",
       "        text-align: right;\n",
       "    }\n",
       "</style>\n",
       "<table border=\"1\" class=\"dataframe\">\n",
       "  <thead>\n",
       "    <tr style=\"text-align: right;\">\n",
       "      <th></th>\n",
       "      <th>active_power_kW</th>\n",
       "    </tr>\n",
       "  </thead>\n",
       "  <tbody>\n",
       "  </tbody>\n",
       "</table>\n",
       "</div>"
      ],
      "text/plain": [
       "Empty DataFrame\n",
       "Columns: [active_power_kW]\n",
       "Index: []"
      ]
     },
     "execution_count": 10,
     "metadata": {},
     "output_type": "execute_result"
    }
   ],
   "source": [
    "a[a['active_power_kW']==0.0]"
   ]
  },
  {
   "cell_type": "code",
   "execution_count": 11,
   "metadata": {},
   "outputs": [
    {
     "data": {
      "text/html": [
       "<div>\n",
       "<style scoped>\n",
       "    .dataframe tbody tr th:only-of-type {\n",
       "        vertical-align: middle;\n",
       "    }\n",
       "\n",
       "    .dataframe tbody tr th {\n",
       "        vertical-align: top;\n",
       "    }\n",
       "\n",
       "    .dataframe thead th {\n",
       "        text-align: right;\n",
       "    }\n",
       "</style>\n",
       "<table border=\"1\" class=\"dataframe\">\n",
       "  <thead>\n",
       "    <tr style=\"text-align: right;\">\n",
       "      <th></th>\n",
       "      <th>active_power_kW</th>\n",
       "    </tr>\n",
       "  </thead>\n",
       "  <tbody>\n",
       "  </tbody>\n",
       "</table>\n",
       "</div>"
      ],
      "text/plain": [
       "Empty DataFrame\n",
       "Columns: [active_power_kW]\n",
       "Index: []"
      ]
     },
     "execution_count": 11,
     "metadata": {},
     "output_type": "execute_result"
    }
   ],
   "source": [
    "b = pd.DataFrame(data['Active Power kW'].loc[data['Load Relay Status R']=='CONNECTED'], columns=['active_power_kW'])\n",
    "b[b['active_power_kW']==0.0]"
   ]
  },
  {
   "cell_type": "code",
   "execution_count": 12,
   "metadata": {},
   "outputs": [
    {
     "data": {
      "text/html": [
       "<div>\n",
       "<style scoped>\n",
       "    .dataframe tbody tr th:only-of-type {\n",
       "        vertical-align: middle;\n",
       "    }\n",
       "\n",
       "    .dataframe tbody tr th {\n",
       "        vertical-align: top;\n",
       "    }\n",
       "\n",
       "    .dataframe thead th {\n",
       "        text-align: right;\n",
       "    }\n",
       "</style>\n",
       "<table border=\"1\" class=\"dataframe\">\n",
       "  <thead>\n",
       "    <tr style=\"text-align: right;\">\n",
       "      <th></th>\n",
       "      <th>active_power_kW</th>\n",
       "    </tr>\n",
       "  </thead>\n",
       "  <tbody>\n",
       "  </tbody>\n",
       "</table>\n",
       "</div>"
      ],
      "text/plain": [
       "Empty DataFrame\n",
       "Columns: [active_power_kW]\n",
       "Index: []"
      ]
     },
     "execution_count": 12,
     "metadata": {},
     "output_type": "execute_result"
    }
   ],
   "source": [
    "c = pd.DataFrame(data['Active Power kW'].loc[data['Load Relay Status Y']=='CONNECTED'], columns=['active_power_kW'])\n",
    "c[c['active_power_kW']==0.0]"
   ]
  },
  {
   "cell_type": "code",
   "execution_count": 15,
   "metadata": {},
   "outputs": [
    {
     "data": {
      "text/html": [
       "<div>\n",
       "<style scoped>\n",
       "    .dataframe tbody tr th:only-of-type {\n",
       "        vertical-align: middle;\n",
       "    }\n",
       "\n",
       "    .dataframe tbody tr th {\n",
       "        vertical-align: top;\n",
       "    }\n",
       "\n",
       "    .dataframe thead th {\n",
       "        text-align: right;\n",
       "    }\n",
       "</style>\n",
       "<table border=\"1\" class=\"dataframe\">\n",
       "  <thead>\n",
       "    <tr style=\"text-align: right;\">\n",
       "      <th></th>\n",
       "      <th>active_power_kW</th>\n",
       "    </tr>\n",
       "  </thead>\n",
       "  <tbody>\n",
       "  </tbody>\n",
       "</table>\n",
       "</div>"
      ],
      "text/plain": [
       "Empty DataFrame\n",
       "Columns: [active_power_kW]\n",
       "Index: []"
      ]
     },
     "execution_count": 15,
     "metadata": {},
     "output_type": "execute_result"
    }
   ],
   "source": [
    "d = pd.DataFrame(data['Active Power kW'].loc[data['Load Relay Status R']=='DISCONNECTED'], columns=['active_power_kW'])\n",
    "d[d['active_power_kW']!=0]"
   ]
  },
  {
   "cell_type": "code",
   "execution_count": null,
   "metadata": {},
   "outputs": [],
   "source": []
  }
 ],
 "metadata": {
  "kernelspec": {
   "display_name": "Python 3",
   "language": "python",
   "name": "python3"
  },
  "language_info": {
   "codemirror_mode": {
    "name": "ipython",
    "version": 3
   },
   "file_extension": ".py",
   "mimetype": "text/x-python",
   "name": "python",
   "nbconvert_exporter": "python",
   "pygments_lexer": "ipython3",
   "version": "3.7.1"
  }
 },
 "nbformat": 4,
 "nbformat_minor": 2
}
